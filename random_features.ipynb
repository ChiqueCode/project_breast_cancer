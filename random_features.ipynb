{
 "cells": [
  {
   "cell_type": "code",
   "execution_count": 1,
   "metadata": {},
   "outputs": [],
   "source": [
    "# Import dependencies\n",
    "import matplotlib.pyplot as plt\n",
    "import numpy as np\n",
    "import pandas as pd\n",
    "import random\n",
    "from sklearn.datasets import load_breast_cancer"
   ]
  },
  {
   "cell_type": "code",
   "execution_count": 2,
   "metadata": {},
   "outputs": [],
   "source": [
    "def get_features(n):\n",
    "    \"\"\"Returns list of randomly generated features based on passed kernel\"\"\"\n",
    "    \n",
    "    \n",
    "    # Load dataset from sklearn and convert features to dataframe\n",
    "    cancer = load_breast_cancer()\n",
    "    features_df = pd.DataFrame(cancer.data, columns = cancer.feature_names)\n",
    "\n",
    "    # Extract the maxes and mins for each feature\n",
    "    maxes = features_df.max()\n",
    "    mins = features_df.min()\n",
    "    \n",
    "    # Set random seed and create random array of features\n",
    "    random.seed(n)\n",
    "    features = [np.random.uniform(s, e) for s,e in zip(maxes, mins)]\n",
    "    \n",
    "    return features"
   ]
  }
 ],
 "metadata": {
  "kernelspec": {
   "display_name": "Python 3",
   "language": "python",
   "name": "python3"
  },
  "language_info": {
   "codemirror_mode": {
    "name": "ipython",
    "version": 3
   },
   "file_extension": ".py",
   "mimetype": "text/x-python",
   "name": "python",
   "nbconvert_exporter": "python",
   "pygments_lexer": "ipython3",
   "version": "3.7.1"
  }
 },
 "nbformat": 4,
 "nbformat_minor": 2
}
