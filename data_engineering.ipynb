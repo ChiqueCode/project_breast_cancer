{
 "cells": [
  {
   "cell_type": "markdown",
   "metadata": {},
   "source": [
    "Data Enginee"
   ]
  },
  {
   "cell_type": "code",
   "execution_count": 48,
   "metadata": {},
   "outputs": [],
   "source": [
    "# Dependancies\n",
    "import pandas as pd\n",
    "import os\n",
    "import csv\n",
    "\n",
    "# Python SQL toolkit and Object Relational Mapper\n",
    "import sqlalchemy\n",
    "from sqlalchemy.orm import Session\n",
    "from sqlalchemy import create_engine, inspect, func\n",
    "\n",
    "# Import modules to declare columns and column data types\n",
    "from sqlalchemy import Column, Integer, String, Float\n",
    "\n",
    "# Import and establish Base for which classes will be constructed \n",
    "from sqlalchemy.ext.declarative import declarative_base\n",
    "\n",
    "# Define Declarative Base \n",
    "Base = declarative_base()"
   ]
  },
  {
   "cell_type": "code",
   "execution_count": 39,
   "metadata": {},
   "outputs": [
    {
     "data": {
      "text/html": [
       "<div>\n",
       "<style scoped>\n",
       "    .dataframe tbody tr th:only-of-type {\n",
       "        vertical-align: middle;\n",
       "    }\n",
       "\n",
       "    .dataframe tbody tr th {\n",
       "        vertical-align: top;\n",
       "    }\n",
       "\n",
       "    .dataframe thead th {\n",
       "        text-align: right;\n",
       "    }\n",
       "</style>\n",
       "<table border=\"1\" class=\"dataframe\">\n",
       "  <thead>\n",
       "    <tr style=\"text-align: right;\">\n",
       "      <th></th>\n",
       "      <th>state</th>\n",
       "      <th>abr</th>\n",
       "      <th>lat</th>\n",
       "      <th>lng</th>\n",
       "      <th>CancerType</th>\n",
       "      <th>incidence</th>\n",
       "      <th>population</th>\n",
       "      <th>percentage_incident</th>\n",
       "      <th>prevalence</th>\n",
       "      <th>alive</th>\n",
       "      <th>year</th>\n",
       "      <th>death_count</th>\n",
       "      <th>prevalence_1_year</th>\n",
       "      <th>percentage_deaths</th>\n",
       "      <th>diff</th>\n",
       "    </tr>\n",
       "  </thead>\n",
       "  <tbody>\n",
       "    <tr>\n",
       "      <th>0</th>\n",
       "      <td>Alabama</td>\n",
       "      <td>AL</td>\n",
       "      <td>32.6010112</td>\n",
       "      <td>-86.680736</td>\n",
       "      <td>Female Breast</td>\n",
       "      <td>18227</td>\n",
       "      <td>12434320</td>\n",
       "      <td>0.146586</td>\n",
       "      <td>0,15</td>\n",
       "      <td>1865148</td>\n",
       "      <td>2011-2015</td>\n",
       "      <td>3394</td>\n",
       "      <td>0,150272954</td>\n",
       "      <td>0.027295</td>\n",
       "      <td>0</td>\n",
       "    </tr>\n",
       "    <tr>\n",
       "      <th>1</th>\n",
       "      <td>Alaska</td>\n",
       "      <td>AK</td>\n",
       "      <td>61.3025006</td>\n",
       "      <td>-158.775020</td>\n",
       "      <td>Female Breast</td>\n",
       "      <td>2100</td>\n",
       "      <td>1751388</td>\n",
       "      <td>0.119905</td>\n",
       "      <td>0,12</td>\n",
       "      <td>210166,56</td>\n",
       "      <td>2011-2015</td>\n",
       "      <td>310</td>\n",
       "      <td>0,120177254</td>\n",
       "      <td>0.017700</td>\n",
       "      <td>0</td>\n",
       "    </tr>\n",
       "  </tbody>\n",
       "</table>\n",
       "</div>"
      ],
      "text/plain": [
       "     state abr         lat         lng     CancerType  incidence  population  \\\n",
       "0  Alabama  AL  32.6010112  -86.680736  Female Breast      18227    12434320   \n",
       "1   Alaska  AK  61.3025006 -158.775020  Female Breast       2100     1751388   \n",
       "\n",
       "   percentage_incident prevalence      alive       year  death_count  \\\n",
       "0             0.146586       0,15    1865148  2011-2015         3394   \n",
       "1             0.119905       0,12  210166,56  2011-2015          310   \n",
       "\n",
       "  prevalence_1_year  percentage_deaths  diff  \n",
       "0       0,150272954           0.027295     0  \n",
       "1       0,120177254           0.017700     0  "
      ]
     },
     "execution_count": 39,
     "metadata": {},
     "output_type": "execute_result"
    }
   ],
   "source": [
    "# Read in CSV File\n",
    "df=pd.read_csv('datasets/percentage_by_state.csv', dtype={'Zip': 'str'})\n",
    "df.head(2)"
   ]
  },
  {
   "cell_type": "code",
   "execution_count": 40,
   "metadata": {},
   "outputs": [
    {
     "data": {
      "text/plain": [
       "(50, 15)"
      ]
     },
     "execution_count": 40,
     "metadata": {},
     "output_type": "execute_result"
    }
   ],
   "source": [
    "# Inspecting the Data\n",
    "df.shape"
   ]
  },
  {
   "cell_type": "code",
   "execution_count": 41,
   "metadata": {},
   "outputs": [
    {
     "data": {
      "text/html": [
       "<div>\n",
       "<style scoped>\n",
       "    .dataframe tbody tr th:only-of-type {\n",
       "        vertical-align: middle;\n",
       "    }\n",
       "\n",
       "    .dataframe tbody tr th {\n",
       "        vertical-align: top;\n",
       "    }\n",
       "\n",
       "    .dataframe thead th {\n",
       "        text-align: right;\n",
       "    }\n",
       "</style>\n",
       "<table border=\"1\" class=\"dataframe\">\n",
       "  <thead>\n",
       "    <tr style=\"text-align: right;\">\n",
       "      <th></th>\n",
       "      <th>state</th>\n",
       "      <th>abr</th>\n",
       "      <th>lat</th>\n",
       "      <th>lng</th>\n",
       "      <th>incidence</th>\n",
       "      <th>population</th>\n",
       "      <th>percentage_incident</th>\n",
       "      <th>death_count</th>\n",
       "      <th>percentage_deaths</th>\n",
       "    </tr>\n",
       "  </thead>\n",
       "  <tbody>\n",
       "    <tr>\n",
       "      <th>0</th>\n",
       "      <td>Alabama</td>\n",
       "      <td>AL</td>\n",
       "      <td>32.6010112</td>\n",
       "      <td>-86.680736</td>\n",
       "      <td>18227</td>\n",
       "      <td>12434320</td>\n",
       "      <td>0.146586</td>\n",
       "      <td>3394</td>\n",
       "      <td>0.027295</td>\n",
       "    </tr>\n",
       "    <tr>\n",
       "      <th>1</th>\n",
       "      <td>Alaska</td>\n",
       "      <td>AK</td>\n",
       "      <td>61.3025006</td>\n",
       "      <td>-158.775020</td>\n",
       "      <td>2100</td>\n",
       "      <td>1751388</td>\n",
       "      <td>0.119905</td>\n",
       "      <td>310</td>\n",
       "      <td>0.017700</td>\n",
       "    </tr>\n",
       "  </tbody>\n",
       "</table>\n",
       "</div>"
      ],
      "text/plain": [
       "     state abr         lat         lng  incidence  population  \\\n",
       "0  Alabama  AL  32.6010112  -86.680736      18227    12434320   \n",
       "1   Alaska  AK  61.3025006 -158.775020       2100     1751388   \n",
       "\n",
       "   percentage_incident  death_count  percentage_deaths  \n",
       "0             0.146586         3394           0.027295  \n",
       "1             0.119905          310           0.017700  "
      ]
     },
     "execution_count": 41,
     "metadata": {},
     "output_type": "execute_result"
    }
   ],
   "source": [
    "# Drop unnessesary columns. NOTE: data has no Missing/NaN values\n",
    "dropped_df = df.drop(['CancerType', 'prevalence', 'alive', 'year', 'prevalence_1_year', 'diff'], axis=1)\n",
    "dropped_df.head(2)"
   ]
  },
  {
   "cell_type": "code",
   "execution_count": 42,
   "metadata": {},
   "outputs": [],
   "source": [
    "# Creating an engine, sqlite database and connection to the engine\n",
    "engine = create_engine(\"sqlite:///usa_percentage_state.sqlite\", echo=False)\n",
    "conn = engine.connect()"
   ]
  },
  {
   "cell_type": "code",
   "execution_count": 43,
   "metadata": {},
   "outputs": [],
   "source": [
    "# Creating a Class & table \n",
    "class Leads(Base):\n",
    "    __tablename__ = 'usa_percentage_state_table'\n",
    "    id = Column(Integer, primary_key=True)\n",
    "    state = Column(String(255))\n",
    "    abr = Column(String(255))\n",
    "    lat = Column(Float)\n",
    "    lng = Column(Float)\n",
    "    incidence = Column(Float)\n",
    "    population = Column(Float)\n",
    "    percentage_incident = Column(Float)\n",
    "    death_count = Column(Float)\n",
    "    percentage_deaths = Column(Float)   "
   ]
  },
  {
   "cell_type": "code",
   "execution_count": 44,
   "metadata": {},
   "outputs": [],
   "source": [
    "Base.metadata.create_all(conn)"
   ]
  },
  {
   "cell_type": "code",
   "execution_count": 45,
   "metadata": {},
   "outputs": [],
   "source": [
    "# Transferring the data from dataframe to the sqlite db\n",
    "dropped_df.to_sql(name='usa_percentage_state_table', con=conn, if_exists='append', index=False)"
   ]
  },
  {
   "cell_type": "code",
   "execution_count": 46,
   "metadata": {},
   "outputs": [
    {
     "data": {
      "text/plain": [
       "['usa_percentage_state_table']"
      ]
     },
     "execution_count": 46,
     "metadata": {},
     "output_type": "execute_result"
    }
   ],
   "source": [
    "# Inspecting the Table to make sure the table is there\n",
    "inspector = inspect(engine)\n",
    "inspector.get_table_names()"
   ]
  },
  {
   "cell_type": "code",
   "execution_count": 47,
   "metadata": {},
   "outputs": [
    {
     "data": {
      "text/plain": [
       "[(1, 'Alabama', 'AL', 32.6010112, -86.6807365, 18227.0, 12434320.0, 0.14658622300000002, 3394.0, 0.027295421),\n",
       " (2, 'Alaska', 'AK', 61.3025006, -158.7750198, 2100.0, 1751388.0, 0.11990489800000001, 310.0, 0.017700247),\n",
       " (3, 'Arizona', 'AZ', 34.1682185, -111.930907, 22214.0, 16686987.0, 0.133121695, 3957.0, 0.023713089),\n",
       " (4, 'Arkansas', 'AR', 34.7519275, -92.13137840000002, 10399.0, 7527040.0, 0.138155238, 2050.0, 0.027235142),\n",
       " (5, 'California', 'CA', 37.2718745, -119.2704153, 128452.0, 96473279.0, 0.13314775, 22033.0, 0.022838447999999997),\n",
       " (6, 'Colorado', 'CO', 38.9979339, -105.55056699999999, 17933.0, 13143731.0, 0.136437668, 2796.0, 0.021272499),\n",
       " (7, 'Connecticut', 'CT', 41.5187835, -72.75750699999999, 16000.0, 9201326.0, 0.17388798100000002, 2288.0, 0.024865981000000002),\n",
       " (8, 'Delaware', 'DE', 39.145251, -75.41892059999999, 3994.0, 2387966.0, 0.16725531300000002, 672.0, 0.028141104),\n",
       " (9, 'District of C', 'DC', 38.8993487, -77.0145666, 2350.0, 1700582.0, 0.138187985, 509.0, 0.02993093),\n",
       " (10, 'Florida', 'FL', 27.9757279, -83.8330166, 77149.0, 50178974.0, 0.153747663, 14200.0, 0.028298705)]"
      ]
     },
     "execution_count": 47,
     "metadata": {},
     "output_type": "execute_result"
    }
   ],
   "source": [
    "# Checking the data \n",
    "engine.execute('SELECT * FROM usa_percentage_state_table LIMIT 10').fetchall()"
   ]
  }
 ],
 "metadata": {
  "kernelspec": {
   "display_name": "Python 3",
   "language": "python",
   "name": "python3"
  },
  "language_info": {
   "codemirror_mode": {
    "name": "ipython",
    "version": 3
   },
   "file_extension": ".py",
   "mimetype": "text/x-python",
   "name": "python",
   "nbconvert_exporter": "python",
   "pygments_lexer": "ipython3",
   "version": "3.7.2"
  }
 },
 "nbformat": 4,
 "nbformat_minor": 2
}
